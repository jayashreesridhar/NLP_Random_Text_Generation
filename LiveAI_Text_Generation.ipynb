{
 "cells": [
  {
   "cell_type": "markdown",
   "metadata": {},
   "source": [
    "Before you turn this problem in, make sure everything runs as expected. First, **restart the kernel** (in the menubar, select Kernel$\\rightarrow$Restart) and then **run all cells** (in the menubar, select Cell$\\rightarrow$Run All).\n",
    "\n",
    "Make sure you fill in any place that says `YOUR CODE HERE`, as well as your name below:"
   ]
  },
  {
   "cell_type": "code",
   "execution_count": 407,
   "metadata": {},
   "outputs": [],
   "source": [
    "NAME = \"JAYASHREE SRIDHAR\""
   ]
  },
  {
   "cell_type": "markdown",
   "metadata": {},
   "source": [
    "---"
   ]
  },
  {
   "cell_type": "markdown",
   "metadata": {
    "colab_type": "text",
    "deletable": false,
    "editable": false,
    "id": "7JJZiPuxdsCe",
    "nbgrader": {
     "cell_type": "markdown",
     "checksum": "a272885f5c9c67c0caed54cea6fd884a",
     "grade": false,
     "grade_id": "cell-db4872e0f37a9c0f",
     "locked": true,
     "schema_version": 3,
     "solution": false,
     "task": false
    }
   },
   "source": [
    "### This notebook has been provided to you by LiveAI.eu of Assen, 9406 RX, The Netherlands\n",
    "Please read the terms and conditions below. \n",
    "For details please visit https://liveai.eu/utdallas-beta/privacy-and-terms/ or contact us at contact@liveai.eu\n",
    "\n",
    "#### All rights reserved.\n",
    "\n",
    "**All Intellectual Property Rights in the Course Materials, Online Courses and the speeches made by trainers at the Taught Courses are, and remain, the intellectual property of liveai.eu or its licensors, whether adapted, written for or customised for the Client or not.**\n",
    "\n",
    "You are not authorised to:-\n",
    "\n",
    "- copy, modify, reproduce, re-publish, sub-licence, sell, upload, broadcast, post, transmit or distribute any of the Course Materials without prior written permission;\n",
    "- record on video or audio tape, relay by videophone or other means the Online Course or Taught Course given\n",
    "- use the Course Materials in the provision of any other course or training whether given by us or any third party trainer;\n",
    "- remove any copyright or other notice of liveai.eu on the Course Materials;\n",
    "- modify, adapt, merge, translate, disassemble, decompile, reverse engineer (save to the extent permitted by law) any software forming part of the Online Courses.\n",
    "\n",
    "Breach any of the above clauses by you shall allow us to immediately terminate these terms and conditions with you and cease to provide you with any Services, including but not limited to access to the Online Courses.\n",
    "#### In consideration of the Fees paid by you, we grant to you a limited, non-transferable, non-exclusive licence to use the Course Materials and the software in respect of the Online Course for the sole purpose of completing the Online Course and / or attending the Taught Course.Intellectual Property"
   ]
  },
  {
   "cell_type": "markdown",
   "metadata": {
    "colab_type": "text",
    "deletable": false,
    "editable": false,
    "id": "cUljNuN_4Muq",
    "nbgrader": {
     "cell_type": "markdown",
     "checksum": "c5782504dd776ae255f7e28306e9854c",
     "grade": false,
     "grade_id": "cell-5897d605d0043006",
     "locked": true,
     "schema_version": 3,
     "solution": false,
     "task": false
    }
   },
   "source": [
    "You are given a txt file for Romeo and Juliet text dataset. Your job is to teach computers to write scripts as Shakespeare did. You're also provided with the pre-trained model weights (.h5 file) and history of training (.csv file having loss and accuracy at each epoch).\n",
    "\n",
    "**Note:**\n",
    "- **Model weights are all the parameters (including trainable and non-trainable) of the model which are in turn all the parameters used in the layers of the model. For a convolution layer that would be the filter weights as well as the biases.**\n",
    "- **A pre-trained model is a model created (trained) by some one else to solve a similar problem. Instead of building a model from scratch to solve a similar problem, you use the model trained on other problem as a starting point.**\n",
    "- **Although in this problem we're not going to train our model. Instead, we will focus on loading the weights to the model you'll create and do inferential analysis (Prediction, Accuracy of model, checking the history of pre-trained model etc). Once submitted the assignment you're encouraged to either train your model from scratch or fine tune it further. But do not train the model untill you submit the assignment. You must follow the instruction provided to pass this assignment**\n",
    "\n",
    "You'll be given some incomplete fuctions which you will need to complete by writing code. Each graded function carrys some marks. To complete this graded function you've to write your code between `# YOUR CODE HERE` and `raise NotImplementedError()`\n",
    "\n",
    "- ORIGINAL DATA SOURCE: `romeo_and_juliet.txt`\n",
    "  - Total of 138283 characters and 64 unique characters\n",
    "\n",
    "\n",
    "- Model Weights: `model_weight.h5`\n",
    "- History: `'history.csv`"
   ]
  },
  {
   "cell_type": "markdown",
   "metadata": {
    "colab_type": "text",
    "deletable": false,
    "editable": false,
    "id": "_UQFozIxhyQo",
    "nbgrader": {
     "cell_type": "markdown",
     "checksum": "2ab550ed7192180e342e8952d51cd4e4",
     "grade": false,
     "grade_id": "cell-7c989680b8a0a503",
     "locked": true,
     "schema_version": 3,
     "solution": false,
     "task": false
    }
   },
   "source": [
    "# Text Generation\n",
    "Text Generation is a sub-problem of Natural Language Processing to generate text based on past text data. Approaches to Text Generation could learn from past text data based on either **Word Level** or **Character Level**. \n",
    "\n",
    "In this notebook, we prefer you to provide the **Character-based solution** to this problem."
   ]
  },
  {
   "cell_type": "markdown",
   "metadata": {
    "colab_type": "text",
    "deletable": false,
    "editable": false,
    "id": "zfkXXK7NdwsC",
    "nbgrader": {
     "cell_type": "markdown",
     "checksum": "a69ab836977b7ff770e897e32788c391",
     "grade": false,
     "grade_id": "cell-904ecf97c9f73eb0",
     "locked": true,
     "schema_version": 3,
     "solution": false,
     "task": false
    }
   },
   "source": [
    "# Import relevant libraries"
   ]
  },
  {
   "cell_type": "code",
   "execution_count": 408,
   "metadata": {
    "colab": {
     "base_uri": "https://localhost:8080/",
     "height": 49
    },
    "colab_type": "code",
    "deletable": false,
    "editable": false,
    "id": "1Zb7VtJOdjrJ",
    "nbgrader": {
     "cell_type": "code",
     "checksum": "28e01036095b8ad7929b7dddc9566ed2",
     "grade": false,
     "grade_id": "cell-552f270973e7683f",
     "locked": true,
     "schema_version": 3,
     "solution": false,
     "task": false
    },
    "outputId": "25fee448-808b-4960-ec65-f5126c6de197"
   },
   "outputs": [],
   "source": [
    "import os #provides functions for interacting with the operating system.\n",
    "import tensorflow as tf #open source library for numerical computation that makes machine learning faster and easier.\n",
    "import numpy as np #used for matrix and array manupulation\n",
    "import pandas as pd #used for data manipulation and analysis\n",
    "import numpy as np #library used for working with arrays\n",
    "import matplotlib.pyplot as plt #used for plotting 2D graphics\n",
    "import seaborn as sns #uses Matplotlib underneath to plot graphs."
   ]
  },
  {
   "cell_type": "markdown",
   "metadata": {
    "colab_type": "text",
    "deletable": false,
    "editable": false,
    "id": "-zJTR_rj1yvK",
    "nbgrader": {
     "cell_type": "markdown",
     "checksum": "ed3965af2f33b7de6703aee0b2765bdb",
     "grade": false,
     "grade_id": "cell-676e1b559fcb2c5c",
     "locked": true,
     "schema_version": 3,
     "solution": false,
     "task": false
    }
   },
   "source": [
    "# Define directory, history, and weight paths"
   ]
  },
  {
   "cell_type": "code",
   "execution_count": 409,
   "metadata": {
    "colab": {},
    "colab_type": "code",
    "id": "XJ5JWfkj1eAD"
   },
   "outputs": [],
   "source": [
    "#change this according to your data destination\n",
    "data_path = '/home/jayashree/live_ai/NLP Assignment/NLP Assignment/romeo_and_juliet.txt'\n",
    "model_weight_path = '/home/jayashree/live_ai/NLP Assignment/NLP Assignment/model_weight.h5'\n",
    "history_path = '/home/jayashree/live_ai/NLP Assignment/NLP Assignment/history.csv'"
   ]
  },
  {
   "cell_type": "code",
   "execution_count": 410,
   "metadata": {
    "deletable": false,
    "editable": false,
    "nbgrader": {
     "cell_type": "code",
     "checksum": "e48cfb98c926cf49f5b723bf89b7a596",
     "grade": true,
     "grade_id": "change_variables_value_with_correct_directory_location",
     "locked": true,
     "points": 0,
     "schema_version": 3,
     "solution": false,
     "task": false
    }
   },
   "outputs": [],
   "source": [
    "#YOU MUST NOT DELETE/EDIT THIS CELL.\n",
    "#NOTEBOOK SETUP CELL"
   ]
  },
  {
   "cell_type": "markdown",
   "metadata": {
    "colab_type": "text",
    "deletable": false,
    "editable": false,
    "id": "KtFORCAMd2YP",
    "nbgrader": {
     "cell_type": "markdown",
     "checksum": "2272422a183a1fbe83adde43ae3bce30",
     "grade": false,
     "grade_id": "cell-a47c4c18b3b88fa8",
     "locked": true,
     "schema_version": 3,
     "solution": false,
     "task": false
    }
   },
   "source": [
    "# Read data"
   ]
  },
  {
   "cell_type": "code",
   "execution_count": 411,
   "metadata": {
    "colab": {},
    "colab_type": "code",
    "deletable": false,
    "id": "mPPaSd-Sd1vZ",
    "nbgrader": {
     "cell_type": "code",
     "checksum": "b1c4c4ebd7d969a06f21a58a8e0a02ee",
     "grade": false,
     "grade_id": "read_data",
     "locked": false,
     "schema_version": 3,
     "solution": true,
     "task": false
    }
   },
   "outputs": [],
   "source": [
    "#GRADED ASSIGNMENT\n",
    "#Point = 1\n",
    "#Function to read text data\n",
    "def read_data(file_path):\n",
    "    \"\"\"\n",
    "    This function takes file_path as input, open and read text \n",
    "    Inputs:\n",
    "    - file_path : String\n",
    "    Returns:\n",
    "    - text : returned text\n",
    "    Hints: use 'open' and its 'read' method\n",
    "    \"\"\"\n",
    "    # YOUR CODE HERE\n",
    "    read_text=open(file_path,\"r\")\n",
    "    return(read_text.read().encode())\n",
    "    raise NotImplementedError()"
   ]
  },
  {
   "cell_type": "code",
   "execution_count": 412,
   "metadata": {
    "colab": {
     "base_uri": "https://localhost:8080/",
     "height": 33
    },
    "colab_type": "code",
    "deletable": false,
    "editable": false,
    "id": "vHKYV1dGH4TA",
    "nbgrader": {
     "cell_type": "code",
     "checksum": "644877e26b095696af9b9ebd96fdf00d",
     "grade": false,
     "grade_id": "cell-d086a2daa2e5cdb1",
     "locked": true,
     "schema_version": 3,
     "solution": false,
     "task": false
    },
    "outputId": "0a25275f-3204-47ba-a8db-a552a0a4d31f"
   },
   "outputs": [
    {
     "name": "stdout",
     "output_type": "stream",
     "text": [
      "Length of text: 138283 characters\n"
     ]
    }
   ],
   "source": [
    "text = read_data(data_path).decode(encoding = 'utf-8')\n",
    "#Length of text = number of characters in the text data\n",
    "print(\"Length of text: {} characters\".format(len(text)))"
   ]
  },
  {
   "cell_type": "code",
   "execution_count": 413,
   "metadata": {
    "colab": {},
    "colab_type": "code",
    "deletable": false,
    "editable": false,
    "id": "VTJE0iDSHrKS",
    "nbgrader": {
     "cell_type": "code",
     "checksum": "b12667d431ecda86d5b8ba7a12a0cc95",
     "grade": true,
     "grade_id": "read_data_test",
     "locked": true,
     "points": 1,
     "schema_version": 3,
     "solution": false,
     "task": false
    }
   },
   "outputs": [],
   "source": [
    "#YOU MUST NOT DELETE/EDIT THIS CELL.\n",
    "#TEST CELL"
   ]
  },
  {
   "cell_type": "code",
   "execution_count": 414,
   "metadata": {
    "colab": {
     "base_uri": "https://localhost:8080/",
     "height": 148
    },
    "colab_type": "code",
    "deletable": false,
    "editable": false,
    "id": "YWt6N1TBd6ue",
    "nbgrader": {
     "cell_type": "code",
     "checksum": "002edb15a0f8850c566ecb2321bfe275",
     "grade": false,
     "grade_id": "cell-dd5954f69d4e7a50",
     "locked": true,
     "schema_version": 3,
     "solution": false,
     "task": false
    },
    "outputId": "3f407523-c620-402f-9c0d-a007b20b8cf0"
   },
   "outputs": [
    {
     "name": "stdout",
     "output_type": "stream",
     "text": [
      "ACT I\n",
      "PROLOGUE\n",
      "Two households, both alike in dignity,\n",
      "In fair Verona, where we lay our scene,\n",
      "From ancient grudge break to new mutiny,\n",
      "Where civil blood makes civil hands unclean.\n",
      "From forth the fatal loins of these two foes\n",
      "A pair of star-cross'd lo\n"
     ]
    }
   ],
   "source": [
    "# first look in the 1st ACT of Romeo and Juliet\n",
    "print(text[:250])"
   ]
  },
  {
   "cell_type": "code",
   "execution_count": 415,
   "metadata": {
    "colab": {},
    "colab_type": "code",
    "deletable": false,
    "id": "ZE_u9MeNd9tE",
    "nbgrader": {
     "cell_type": "code",
     "checksum": "a3f00f0092bc1c273f73d820f5dfe04b",
     "grade": false,
     "grade_id": "generate_vocabs",
     "locked": false,
     "schema_version": 3,
     "solution": true,
     "task": false
    }
   },
   "outputs": [],
   "source": [
    "#GRADED ASSIGNMENT\n",
    "#Point = 1\n",
    "#Function to create a set of unique characters\n",
    "def generate_vocabs(text):\n",
    "    \"\"\"\n",
    "    This function is to build a sorted set of unique characters\n",
    "    Inputs:\n",
    "    - text : text or list of characters\n",
    "    Returns:\n",
    "    - vocabs : Python sorted set\n",
    "    Hints: use 'set' and 'sorted'\n",
    "    \"\"\"\n",
    "    # YOUR CODE HERE\n",
    "    sorted_set=sorted(set(text))\n",
    "    return sorted_set\n",
    "    raise NotImplementedError()"
   ]
  },
  {
   "cell_type": "code",
   "execution_count": 416,
   "metadata": {
    "colab": {
     "base_uri": "https://localhost:8080/",
     "height": 33
    },
    "colab_type": "code",
    "deletable": false,
    "editable": false,
    "id": "2n3tZ__UJjnK",
    "nbgrader": {
     "cell_type": "code",
     "checksum": "466d5458e78e363d0c34908e59a5ca62",
     "grade": false,
     "grade_id": "cell-da961b94aa8e3c52",
     "locked": true,
     "schema_version": 3,
     "solution": false,
     "task": false
    },
    "outputId": "d0e535b1-80aa-4024-db6a-43932436bc8f"
   },
   "outputs": [
    {
     "name": "stdout",
     "output_type": "stream",
     "text": [
      "64 unique characters\n"
     ]
    }
   ],
   "source": [
    "vocabs = generate_vocabs(text)\n",
    "print(\"{} unique characters\".format(len(vocabs)))"
   ]
  },
  {
   "cell_type": "code",
   "execution_count": 417,
   "metadata": {
    "colab": {},
    "colab_type": "code",
    "deletable": false,
    "editable": false,
    "id": "CIn3VS7DJcvz",
    "nbgrader": {
     "cell_type": "code",
     "checksum": "8bfaee83fdde882ad8d31bcf2fff7417",
     "grade": true,
     "grade_id": "generate_vocabs_test",
     "locked": true,
     "points": 1,
     "schema_version": 3,
     "solution": false,
     "task": false
    }
   },
   "outputs": [],
   "source": [
    "#YOU MUST NOT DELETE/EDIT THIS CELL.\n",
    "#TEST CELL"
   ]
  },
  {
   "cell_type": "markdown",
   "metadata": {
    "colab_type": "text",
    "deletable": false,
    "editable": false,
    "id": "oWXd5J9ZPCvJ",
    "nbgrader": {
     "cell_type": "markdown",
     "checksum": "855ec51829be493ee2fb5b44924182fa",
     "grade": false,
     "grade_id": "cell-db6576fdc802659c",
     "locked": true,
     "schema_version": 3,
     "solution": false,
     "task": false
    }
   },
   "source": [
    "## Split dataset"
   ]
  },
  {
   "cell_type": "code",
   "execution_count": 418,
   "metadata": {
    "deletable": false,
    "editable": false,
    "nbgrader": {
     "cell_type": "code",
     "checksum": "379ade49bba301f157b5e345de046293",
     "grade": false,
     "grade_id": "cell-3183fc68e97b44f8",
     "locked": true,
     "schema_version": 3,
     "solution": false,
     "task": false
    }
   },
   "outputs": [],
   "source": [
    "from sklearn.model_selection import train_test_split"
   ]
  },
  {
   "cell_type": "code",
   "execution_count": 419,
   "metadata": {
    "colab": {},
    "colab_type": "code",
    "deletable": false,
    "id": "DWL41Ui8PEhW",
    "nbgrader": {
     "cell_type": "code",
     "checksum": "51116ba29e9ff21cef5fc214cf442c5b",
     "grade": false,
     "grade_id": "split_data",
     "locked": false,
     "schema_version": 3,
     "solution": true,
     "task": false
    }
   },
   "outputs": [],
   "source": [
    "#GRADED ASSIGNMENT\n",
    "#Point = 1\n",
    "#Function to split datasets into training and testing datasets by test_ratio\n",
    "def split_data(text, test_ratio):\n",
    "    \"\"\"\n",
    "    This function is to split data into training and testing datasets by test_ratio without shuffling. \n",
    "    As we want to learn the order of words and characters, shuffling will affect the meaningful order of characters\n",
    "    This means that the training dataset accounts for first (1-test_ratio) % charachter of the original data.\n",
    "    And the testing datast accounts for last test_ratio% of the original data.\n",
    "\n",
    "    Inputs:\n",
    "    - text : String or list of characters\n",
    "    - test_ratio : float\n",
    "    Returns:\n",
    "    - train_dataset, test_dataset : tuple of training and testing dat asets\n",
    "    Hint: using sklearn.model_selection.train_test_split with shuffle = False\n",
    "    \"\"\"\n",
    "    # YOUR CODE HERE\n",
    "    train_set,test_set=train_test_split(text,test_size=test_ratio,shuffle=False)\n",
    "    return train_set,test_set\n",
    "    raise NotImplementedError()"
   ]
  },
  {
   "cell_type": "code",
   "execution_count": 420,
   "metadata": {
    "colab": {},
    "colab_type": "code",
    "deletable": false,
    "editable": false,
    "id": "Owsu-48iv65I",
    "nbgrader": {
     "cell_type": "code",
     "checksum": "4653d88acd50d4f5a54af75a82125846",
     "grade": false,
     "grade_id": "cell-1fc5055cb5e153f7",
     "locked": true,
     "schema_version": 3,
     "solution": false,
     "task": false
    }
   },
   "outputs": [],
   "source": [
    "train_text, test_text = split_data(text, test_ratio = 0.1)"
   ]
  },
  {
   "cell_type": "code",
   "execution_count": 421,
   "metadata": {
    "colab": {},
    "colab_type": "code",
    "deletable": false,
    "editable": false,
    "id": "lTX2G7bqKIo5",
    "nbgrader": {
     "cell_type": "code",
     "checksum": "e165df59506fc5cb6406e1b3ac008a36",
     "grade": true,
     "grade_id": "split_data_test",
     "locked": true,
     "points": 1,
     "schema_version": 3,
     "solution": false,
     "task": false
    }
   },
   "outputs": [],
   "source": [
    "#YOU MUST NOT DELETE/EDIT THIS CELL.\n",
    "#TEST CELL"
   ]
  },
  {
   "cell_type": "markdown",
   "metadata": {
    "colab_type": "text",
    "deletable": false,
    "editable": false,
    "id": "zCOQkRlb6f3U",
    "nbgrader": {
     "cell_type": "markdown",
     "checksum": "dbca35933688e9ac25ea3a654673bd23",
     "grade": false,
     "grade_id": "cell-86b14c260b084ea1",
     "locked": true,
     "schema_version": 3,
     "solution": false,
     "task": false
    }
   },
   "source": [
    "# Recurrent Neural Network Approach\n",
    "In this notebook, we are going to use Recurrent Neural Network variants to generate text. RNNs are composed of rolling internal states that depend on the past seen elements. Hence, the input to RNNs are sequences of either characters or words. And the corresponding outputs are next sequecesn of characters or words"
   ]
  },
  {
   "cell_type": "markdown",
   "metadata": {
    "colab_type": "text",
    "deletable": false,
    "editable": false,
    "id": "hLYh3Hq2hKgM",
    "nbgrader": {
     "cell_type": "markdown",
     "checksum": "99402ec0223d473dede33c485f4623c3",
     "grade": false,
     "grade_id": "cell-60190cf6159c92fe",
     "locked": true,
     "schema_version": 3,
     "solution": false,
     "task": false
    }
   },
   "source": [
    "# Text Preprocessing"
   ]
  },
  {
   "cell_type": "markdown",
   "metadata": {
    "colab_type": "text",
    "deletable": false,
    "editable": false,
    "id": "UlA-vRRehs_p",
    "nbgrader": {
     "cell_type": "markdown",
     "checksum": "206ec878292f42861f783d559d0bae05",
     "grade": false,
     "grade_id": "cell-7ba8e485a0d74ee0",
     "locked": true,
     "schema_version": 3,
     "solution": false,
     "task": false
    }
   },
   "source": [
    "In the **Character-based approach** for Text Generation, we may not need to perform comprehensive data augmentation. Still, we need to represent text as numerical vectors by mapping characters to integers."
   ]
  },
  {
   "cell_type": "code",
   "execution_count": 422,
   "metadata": {
    "colab": {},
    "colab_type": "code",
    "deletable": false,
    "id": "OxqZw9uULWv6",
    "nbgrader": {
     "cell_type": "code",
     "checksum": "85a72dde9d41a88a150c75c7f377a02b",
     "grade": false,
     "grade_id": "generate_mappings",
     "locked": false,
     "schema_version": 3,
     "solution": true,
     "task": false
    }
   },
   "outputs": [],
   "source": [
    "#GRADED ASSIGNMENT\n",
    "#Point = 2\n",
    "#  Function to create char-to-index mappings\n",
    "def generate_mappings(vocabs):\n",
    "    \"\"\"\n",
    "    This fucntion to generate char-to-index mappings (hash table) from given vocabularies\n",
    "    For example: {a : 0, b : 1, c: 3}. Maps unique characters to integers\n",
    "     \n",
    "    Inputs:\n",
    "    - vocabs : Python set\n",
    "    Outputs:\n",
    "    - char2idx : char-index dictionary\n",
    "    Hint: use enumerate and dictionary comprehension.\n",
    "    \"\"\"\n",
    "    # YOUR CODE HERE\n",
    "    enum_dict=dict(enumerate(vocabs))    \n",
    "    char_idx={ k:v for (k,v) in zip(enum_dict.values(), enum_dict.keys())}       \n",
    "    return char_idx\n",
    "    raise NotImplementedError()"
   ]
  },
  {
   "cell_type": "code",
   "execution_count": 423,
   "metadata": {
    "colab": {},
    "colab_type": "code",
    "deletable": false,
    "editable": false,
    "id": "Zazrdk_QwWkS",
    "nbgrader": {
     "cell_type": "code",
     "checksum": "b8aed5b91d3896f2b76c4c902943a8a7",
     "grade": false,
     "grade_id": "cell-0f7c5d6371f82289",
     "locked": true,
     "schema_version": 3,
     "solution": false,
     "task": false
    }
   },
   "outputs": [],
   "source": [
    "char2idx = generate_mappings(vocabs)"
   ]
  },
  {
   "cell_type": "code",
   "execution_count": 424,
   "metadata": {},
   "outputs": [],
   "source": [
    "text_as_int = np.array([char2idx[c] for c in text])"
   ]
  },
  {
   "cell_type": "code",
   "execution_count": 425,
   "metadata": {},
   "outputs": [],
   "source": [
    "idx2char = np.array(vocabs)"
   ]
  },
  {
   "cell_type": "code",
   "execution_count": 426,
   "metadata": {
    "colab": {},
    "colab_type": "code",
    "deletable": false,
    "editable": false,
    "id": "VgF_KFFGOfd9",
    "nbgrader": {
     "cell_type": "code",
     "checksum": "bc4060cd9a5601341fee591446a2b9ff",
     "grade": true,
     "grade_id": "generate_mappings_test",
     "locked": true,
     "points": 2,
     "schema_version": 3,
     "solution": false,
     "task": false
    }
   },
   "outputs": [],
   "source": [
    "#YOU MUST NOT DELETE/EDIT THIS CELL.\n",
    "#TEST CELL"
   ]
  },
  {
   "cell_type": "markdown",
   "metadata": {
    "colab_type": "text",
    "deletable": false,
    "editable": false,
    "id": "BE-onjTw9moo",
    "nbgrader": {
     "cell_type": "markdown",
     "checksum": "f86aa93d29d47a07f98ea20eb94a9bb1",
     "grade": false,
     "grade_id": "cell-4bd19f97aadec922",
     "locked": true,
     "schema_version": 3,
     "solution": false,
     "task": false
    }
   },
   "source": [
    "After creating a mapping from characters to integers, we build a function **decode_text** to convert given text to integers"
   ]
  },
  {
   "cell_type": "code",
   "execution_count": 427,
   "metadata": {
    "colab": {},
    "colab_type": "code",
    "deletable": false,
    "id": "FvDmGPO1fYfT",
    "nbgrader": {
     "cell_type": "code",
     "checksum": "a97b72eccc3d53ce73c2da26d43bf6cf",
     "grade": false,
     "grade_id": "decode_text",
     "locked": false,
     "schema_version": 3,
     "solution": true,
     "task": false
    }
   },
   "outputs": [],
   "source": [
    "#GRADED ASSIGNMENT\n",
    "#Point = 2\n",
    "#Function to convert sequences in training and testing datasets into integers by using the above mappings\n",
    "def decode_text(train_text, test_text, mappings):\n",
    "    \"\"\"\n",
    "    This function to convert sequences in Training and Testing datasets into integers by using the above mappings\n",
    "    example - [I, travel, to, Paris] -> [15, 65, 23, 28]\n",
    "\n",
    "    Inputs:\n",
    "    - train_text : Training dataset\n",
    "    - test_text : Testing dataset\n",
    "    - mappings : the Char-to-Index dictionary\n",
    "    Returns: tuple of arrays of train and test data\n",
    "    Hints: use list comprehension\n",
    "    \"\"\"\n",
    "    # YOUR CODE HERE\n",
    "    train_mappings=[mappings[x] for x in train_text]\n",
    "    test_mappings=[mappings[x] for x in test_text]\n",
    "    return train_mappings,test_mappings\n",
    "    raise NotImplementedError()"
   ]
  },
  {
   "cell_type": "code",
   "execution_count": 428,
   "metadata": {
    "colab": {},
    "colab_type": "code",
    "deletable": false,
    "editable": false,
    "id": "Bmv7bDtKyjh8",
    "nbgrader": {
     "cell_type": "code",
     "checksum": "dedcdd9485eaf2a8c30454b93c3c5034",
     "grade": false,
     "grade_id": "cell-9596a43548cb7cc9",
     "locked": true,
     "schema_version": 3,
     "solution": false,
     "task": false
    }
   },
   "outputs": [],
   "source": [
    "train_data, test_data = decode_text(train_text, test_text, char2idx)"
   ]
  },
  {
   "cell_type": "code",
   "execution_count": 429,
   "metadata": {
    "colab": {},
    "colab_type": "code",
    "deletable": false,
    "editable": false,
    "id": "UO5mD8KbPMxv",
    "nbgrader": {
     "cell_type": "code",
     "checksum": "9d77176cdf0bc84755f63cc12647c8f4",
     "grade": true,
     "grade_id": "decode_text_test",
     "locked": true,
     "points": 2,
     "schema_version": 3,
     "solution": false,
     "task": false
    }
   },
   "outputs": [],
   "source": [
    "#YOU MUST NOT DELETE/EDIT THIS CELL.\n",
    "#TEST CELL"
   ]
  },
  {
   "cell_type": "code",
   "execution_count": 430,
   "metadata": {
    "colab": {
     "base_uri": "https://localhost:8080/",
     "height": 313
    },
    "colab_type": "code",
    "deletable": false,
    "editable": false,
    "id": "6qNDWvbPpvhx",
    "nbgrader": {
     "cell_type": "code",
     "checksum": "0a59cb6804583b54fc3ab04e9d0e9389",
     "grade": false,
     "grade_id": "cell-d0c00523974c242d",
     "locked": true,
     "schema_version": 3,
     "solution": false,
     "task": false
    },
    "outputId": "ad079503-c755-41e8-cde0-578b8c00dfe5"
   },
   "outputs": [
    {
     "name": "stdout",
     "output_type": "stream",
     "text": [
      "ACT I\n",
      "PROLOGUE\n",
      "Two households, both alike in dignity,\n",
      "In fair Verona, where we lay our scene,\n",
      "From ancient grudge break to new mutiny,\n",
      "Where civil blood makes civil hands unclean.\n",
      "From forth the fatal loins of these two foes\n",
      "A pair of star-cross'd lo ---> [11, 13, 30, 1, 19, 0, 26, 28, 25, 22, 25, 17, 31, 15, 0, 30, 60, 52, 1, 45, 52, 58, 56, 42, 45, 52, 49, 41, 56, 5, 1, 39, 52, 57, 45, 1, 38, 49, 46, 48, 42, 1, 46, 51, 1, 41, 46, 44, 51, 46, 57, 62, 5, 0, 19, 51, 1, 43, 38, 46, 55, 1, 32, 42, 55, 52, 51, 38, 5, 1, 60, 45, 42, 55, 42, 1, 60, 42, 1, 49, 38, 62, 1, 52, 58, 55, 1, 56, 40, 42, 51, 42, 5, 0, 16, 55, 52, 50, 1, 38, 51, 40, 46, 42, 51, 57, 1, 44, 55, 58, 41, 44, 42, 1, 39, 55, 42, 38, 48, 1, 57, 52, 1, 51, 42, 60, 1, 50, 58, 57, 46, 51, 62, 5, 0, 33, 45, 42, 55, 42, 1, 40, 46, 59, 46, 49, 1, 39, 49, 52, 52, 41, 1, 50, 38, 48, 42, 56, 1, 40, 46, 59, 46, 49, 1, 45, 38, 51, 41, 56, 1, 58, 51, 40, 49, 42, 38, 51, 7, 0, 16, 55, 52, 50, 1, 43, 52, 55, 57, 45, 1, 57, 45, 42, 1, 43, 38, 57, 38, 49, 1, 49, 52, 46, 51, 56, 1, 52, 43, 1, 57, 45, 42, 56, 42, 1, 57, 60, 52, 1, 43, 52, 42, 56, 0, 11, 1, 53, 38, 46, 55, 1, 52, 43, 1, 56, 57, 38, 55, 6, 40, 55, 52, 56, 56, 4, 41, 1, 49, 52]\n"
     ]
    }
   ],
   "source": [
    "# first look in the 1st ACT of Romeo and Juliet\n",
    "print(\"{} ---> {}\".format(''.join([vocabs[x] for x in train_data[:250]]), train_data[:250]))"
   ]
  },
  {
   "cell_type": "markdown",
   "metadata": {
    "colab_type": "text",
    "deletable": false,
    "editable": false,
    "id": "lfnzHhieqPPt",
    "nbgrader": {
     "cell_type": "markdown",
     "checksum": "cd3a5ffb3471d86f6ea6068c5b389902",
     "grade": false,
     "grade_id": "cell-a9239e385241d0b8",
     "locked": true,
     "schema_version": 3,
     "solution": false,
     "task": false
    }
   },
   "source": [
    "# Create Data Loader"
   ]
  },
  {
   "cell_type": "code",
   "execution_count": 431,
   "metadata": {
    "colab": {},
    "colab_type": "code",
    "deletable": false,
    "editable": false,
    "id": "zOGJbtH2S6LW",
    "nbgrader": {
     "cell_type": "code",
     "checksum": "c6405292fa6d24e177659791ef83c659",
     "grade": false,
     "grade_id": "cell-6d74449971434833",
     "locked": true,
     "schema_version": 3,
     "solution": false,
     "task": false
    }
   },
   "outputs": [],
   "source": [
    "# set random seed to reproduce the result\n",
    "tf.random.set_seed(2020)\n",
    "\n",
    "# define support variables\n",
    "# the largest length of a sequence to be fed into the model\n",
    "SEQUENCE_LENGTH = 100 \n",
    "\n",
    "# The number of sampels in a batch. This is to perform Batch Processing/Training\n",
    "# The larger BATCH_SIZE is, the less the model updates itself. And reverse.\n",
    "BATCH_SIZE = 64"
   ]
  },
  {
   "cell_type": "markdown",
   "metadata": {
    "colab_type": "text",
    "deletable": false,
    "editable": false,
    "id": "nCZnX6-uq5jR",
    "nbgrader": {
     "cell_type": "markdown",
     "checksum": "2ebb2c726a3dacbf0eaa62f19374a5de",
     "grade": false,
     "grade_id": "cell-7d8f02777ae989e2",
     "locked": true,
     "schema_version": 3,
     "solution": false,
     "task": false
    }
   },
   "source": [
    "In this problem, features are the input sequence of k characters or words; and the corresponding targets are the k-long characters or words that are shifted to rigtht by 1 character or 1 word of features. Hence, we define the **split_feature_target** function to split features and target"
   ]
  },
  {
   "cell_type": "code",
   "execution_count": 432,
   "metadata": {
    "colab": {},
    "colab_type": "code",
    "deletable": false,
    "id": "dm-Lu1mGwOZU",
    "nbgrader": {
     "cell_type": "code",
     "checksum": "8c9709961de2f2aa61d92097a9c4b1f8",
     "grade": false,
     "grade_id": "split_features_target",
     "locked": false,
     "schema_version": 3,
     "solution": true,
     "task": false
    }
   },
   "outputs": [],
   "source": [
    "#GRADED ASSIGNMENT\n",
    "#Point = 1\n",
    "# define split_features_target function to split given text to features and target\n",
    "def split_features_target(data):\n",
    "    \"\"\"\n",
    "    This function is to split given text into features and target\n",
    "\n",
    "    Hint: target is one character to the right of features\n",
    "    Returns: tuple of features and target\n",
    "    \"\"\"\n",
    "    # YOUR CODE HERE\n",
    "    features=data[:-1]\n",
    "    target=data[1:] \n",
    "    return features,target\n",
    "    raise NotImplementedError()"
   ]
  },
  {
   "cell_type": "code",
   "execution_count": 433,
   "metadata": {
    "colab": {},
    "colab_type": "code",
    "deletable": false,
    "editable": false,
    "id": "A60OVgLwUyHL",
    "nbgrader": {
     "cell_type": "code",
     "checksum": "707af83571f04d57798832dd83e4c781",
     "grade": true,
     "grade_id": "split_features_target_test",
     "locked": true,
     "points": 1,
     "schema_version": 3,
     "solution": false,
     "task": false
    }
   },
   "outputs": [],
   "source": [
    "#YOU MUST NOT DELETE/EDIT THIS CELL.\n",
    "#TEST CELL"
   ]
  },
  {
   "cell_type": "markdown",
   "metadata": {
    "colab_type": "text",
    "deletable": false,
    "editable": false,
    "id": "X-Gna_Ef-H7F",
    "nbgrader": {
     "cell_type": "markdown",
     "checksum": "fb9021eaaf88aa923aceef0253fd3ba7",
     "grade": false,
     "grade_id": "cell-5e2fbde4caf806d1",
     "locked": true,
     "schema_version": 3,
     "solution": false,
     "task": false
    }
   },
   "source": [
    "Next, we need to convert our numerical vectors (representing given text) into Tensors. \n",
    "\n",
    "Also, we need to put k + 1 characters (k is the largest length of a sentence the model looks at) into a sentence that each sentence is a sample. Hence, our model will look and learn ordered characters in the sentences, and attempt to predict the next character of the sentence.\n",
    "\n",
    "After putting k + 1characters into a sample, we need to split the sentence into features and target that target is one-unit shifted to right of features.\n",
    "\n",
    "Finally, we simply batch sampels into BATCH_SIZE batch for batch processing"
   ]
  },
  {
   "cell_type": "code",
   "execution_count": 434,
   "metadata": {
    "colab": {},
    "colab_type": "code",
    "deletable": false,
    "id": "sNO_POgyVwG2",
    "nbgrader": {
     "cell_type": "code",
     "checksum": "a2d594d2bf2d08a82766d62276c96499",
     "grade": false,
     "grade_id": "create_dataset",
     "locked": false,
     "schema_version": 3,
     "solution": true,
     "task": false
    }
   },
   "outputs": [],
   "source": [
    "#GRADED ASSIGNMENT\n",
    "#Point = 4\n",
    "#Function to convert text to Tensor by using tf.data.Dataset.from_generator\n",
    "def create_dataset(data, sequence_length, batch_size):\n",
    "    \"\"\"\n",
    "    This function is to do following steps:\n",
    "    * to convert data into Tensor Dataset object\n",
    "    * batch sequence_length + 1 characters into a sample/sentence\n",
    "    * split sequence_length + 1 sentences into features and \n",
    "        targert that target is shifted to right of features by 1 unit\n",
    "    * batch batch_size samples into a batch\n",
    "\n",
    "    Inputs:\n",
    "    - train_data : training text data\n",
    "    - test_data : testing text data\n",
    "    - sequence_length : maximum sequence length\n",
    "    - batch_size : size of samples per batch\n",
    "    - n_vocabs : number of characters\n",
    "    Outputs:\n",
    "    - train_dataset, test_dataset : tuple of training and testing Tensor Datasets\n",
    "\n",
    "    - Note: - Must add drop_remainder = True  in batch method of dataset to drop the remaining samples which do not fulfill the batch_size\n",
    "    \n",
    "    Hint: \n",
    "    * We use tf.data.Dataset.from_tensor_slices which takes the function split_features_target to \n",
    "      to split features and target.\n",
    "      Check for how to use tf.data.Dataset.from_tensor_slices at https://www.tensorflow.org/api_docs/python/tf/data/Dataset\n",
    "    * We use tf.data.Dataset object with \"batch\" function to:\n",
    "      - batch characters into a sample/sentence\n",
    "      - batch samples/sentences into a batch\n",
    "    \"\"\"\n",
    "    # YOUR CODE HERE\n",
    "    char_dataset = tf.data.Dataset.from_tensor_slices(text_as_int)\n",
    "    sequences = char_dataset.batch(sequence_length+1, drop_remainder=True)\n",
    "    dataset = sequences.map(split_features_target)\n",
    "    dataset = dataset.batch(BATCH_SIZE, drop_remainder=True)\n",
    "    return dataset\n",
    "    raise NotImplementedError()"
   ]
  },
  {
   "cell_type": "code",
   "execution_count": 435,
   "metadata": {
    "deletable": false,
    "editable": false,
    "nbgrader": {
     "cell_type": "code",
     "checksum": "4bfd05ea7c14a38e55cea4218f3448da",
     "grade": false,
     "grade_id": "cell-0825c63a63bd0ae5",
     "locked": true,
     "schema_version": 3,
     "solution": false,
     "task": false
    }
   },
   "outputs": [],
   "source": [
    "train_dataset = create_dataset(train_data, SEQUENCE_LENGTH, BATCH_SIZE)\n",
    "test_dataset = create_dataset(test_data, SEQUENCE_LENGTH, BATCH_SIZE)"
   ]
  },
  {
   "cell_type": "code",
   "execution_count": 436,
   "metadata": {
    "colab": {
     "base_uri": "https://localhost:8080/",
     "height": 396
    },
    "colab_type": "code",
    "deletable": false,
    "editable": false,
    "id": "CahnmCKUhDNG",
    "nbgrader": {
     "cell_type": "code",
     "checksum": "daba7232b27028f65490749f02ffee2c",
     "grade": false,
     "grade_id": "cell-259e8a67d18bf9b5",
     "locked": true,
     "schema_version": 3,
     "solution": false,
     "task": false
    },
    "outputId": "b92acfb9-fca6-4c6b-c2b6-0e663fbf0993"
   },
   "outputs": [
    {
     "name": "stdout",
     "output_type": "stream",
     "text": [
      "Features: \n",
      "ACT I\n",
      "PROLOGUE\n",
      "Two households, both alike in dignity,\n",
      "In fair Verona, where we lay our scene,\n",
      "From a \n",
      "---> [11 13 30  1 19  0 26 28 25 22 25 17 31 15  0 30 60 52  1 45 52 58 56 42\n",
      " 45 52 49 41 56  5  1 39 52 57 45  1 38 49 46 48 42  1 46 51  1 41 46 44\n",
      " 51 46 57 62  5  0 19 51  1 43 38 46 55  1 32 42 55 52 51 38  5  1 60 45\n",
      " 42 55 42  1 60 42  1 49 38 62  1 52 58 55  1 56 40 42 51 42  5  0 16 55\n",
      " 52 50  1 38]\n",
      "\n",
      "\n",
      "Target: CT I\n",
      "PROLOGUE\n",
      "Two households, both alike in dignity,\n",
      "In fair Verona, where we lay our scene,\n",
      "From an \n",
      "---> [13 30  1 19  0 26 28 25 22 25 17 31 15  0 30 60 52  1 45 52 58 56 42 45\n",
      " 52 49 41 56  5  1 39 52 57 45  1 38 49 46 48 42  1 46 51  1 41 46 44 51\n",
      " 46 57 62  5  0 19 51  1 43 38 46 55  1 32 42 55 52 51 38  5  1 60 45 42\n",
      " 55 42  1 60 42  1 49 38 62  1 52 58 55  1 56 40 42 51 42  5  0 16 55 52\n",
      " 50  1 38 51]\n"
     ]
    }
   ],
   "source": [
    "# inspect first sample of features and target\n",
    "# create Tensor dataset\n",
    "for x in train_dataset.take(1):\n",
    "    features, target = x\n",
    "    print(\"Features: \\n{} \\n---> {}\".format(''.join([vocabs[c] for c in features[0]]), features[0]))\n",
    "    print('\\n')\n",
    "    print(\"Target: {} \\n---> {}\".format(''.join([vocabs[c] for c in target[0]]), target[0]))"
   ]
  },
  {
   "cell_type": "code",
   "execution_count": 437,
   "metadata": {
    "colab": {},
    "colab_type": "code",
    "deletable": false,
    "editable": false,
    "id": "zrPn7PpkXShD",
    "nbgrader": {
     "cell_type": "code",
     "checksum": "1412ab324e0e00fd1f4d0e87fdb4f046",
     "grade": true,
     "grade_id": "create_dataset_test",
     "locked": true,
     "points": 4,
     "schema_version": 3,
     "solution": false,
     "task": false
    }
   },
   "outputs": [],
   "source": [
    "#YOU MUST NOT DELETE/EDIT THIS CELL.\n",
    "#TEST CELL"
   ]
  },
  {
   "cell_type": "markdown",
   "metadata": {
    "colab_type": "text",
    "deletable": false,
    "editable": false,
    "id": "gmpTEHNBAM4A",
    "nbgrader": {
     "cell_type": "markdown",
     "checksum": "9944b32863a93f6dadac76f201b7303e",
     "grade": false,
     "grade_id": "cell-15ada044e74d7271",
     "locked": true,
     "schema_version": 3,
     "solution": false,
     "task": false
    }
   },
   "source": [
    "In order to generalize the model, we shuffle the training and testing dataset. This is to prevent overfitting"
   ]
  },
  {
   "cell_type": "code",
   "execution_count": 438,
   "metadata": {
    "colab": {},
    "colab_type": "code",
    "deletable": false,
    "id": "k96AUnOU1LOv",
    "nbgrader": {
     "cell_type": "code",
     "checksum": "999095ae0228bf2dde8d9f942f4ecd20",
     "grade": false,
     "grade_id": "shuffle",
     "locked": false,
     "schema_version": 3,
     "solution": true,
     "task": false
    }
   },
   "outputs": [],
   "source": [
    "#GRADED ASSIGNMENT\n",
    "#Point = 2\n",
    "# This function to shuffle dataset by a buffer_size of 8\n",
    "def shuffle(train_data, test_data, buffer_size = 8):\n",
    "    \"\"\"\n",
    "    This function to shuffe data by a buffer size of 8\n",
    "    Inputs:\n",
    "    - train_data : Tensorflow Dataset object\n",
    "    - test_data : Tensorflow Dataset object\n",
    "    - buffer_size : Integer\n",
    "    Outputs:\n",
    "    - train_data, test_data : a tuple of 2 Tensorflow Dataset objects after batching\n",
    "    Hint: use \"shuffle\" function of tf.data.Dataset object\n",
    "    \"\"\"\n",
    "    # YOUR CODE HERE\n",
    "    train_shuffle=train_data.shuffle(buffer_size)\n",
    "    test_shuffle=test_data.shuffle(buffer_size)\n",
    "    return train_shuffle,test_shuffle\n",
    "    raise NotImplementedError()"
   ]
  },
  {
   "cell_type": "code",
   "execution_count": 439,
   "metadata": {
    "colab": {},
    "colab_type": "code",
    "deletable": false,
    "editable": false,
    "id": "3DhEmHw1bHJ6",
    "nbgrader": {
     "cell_type": "code",
     "checksum": "24e6eeeba19a208909fa17df52a12975",
     "grade": false,
     "grade_id": "cell-ace13537aa97f6a7",
     "locked": true,
     "schema_version": 3,
     "solution": false,
     "task": false
    }
   },
   "outputs": [],
   "source": [
    "train_dataset, test_dataset = shuffle(train_dataset, test_dataset)"
   ]
  },
  {
   "cell_type": "code",
   "execution_count": 440,
   "metadata": {
    "colab": {},
    "colab_type": "code",
    "deletable": false,
    "editable": false,
    "id": "2eABugMCbPPv",
    "nbgrader": {
     "cell_type": "code",
     "checksum": "ad8cb20139427b06931f12ef0cb590d5",
     "grade": true,
     "grade_id": "shuffle_test",
     "locked": true,
     "points": 2,
     "schema_version": 3,
     "solution": false,
     "task": false
    }
   },
   "outputs": [],
   "source": [
    "#YOU MUST NOT DELETE/EDIT THIS CELL.\n",
    "#TEST CELL"
   ]
  },
  {
   "cell_type": "markdown",
   "metadata": {
    "colab_type": "text",
    "deletable": false,
    "editable": false,
    "id": "XIH4edH77yXj",
    "nbgrader": {
     "cell_type": "markdown",
     "checksum": "ba257bb03e420a2f160f51c6fbc39e32",
     "grade": false,
     "grade_id": "cell-2d2df5d9245f514e",
     "locked": true,
     "schema_version": 3,
     "solution": false,
     "task": false
    }
   },
   "source": [
    "Inspect first batch of train dataset"
   ]
  },
  {
   "cell_type": "code",
   "execution_count": 441,
   "metadata": {
    "colab": {
     "base_uri": "https://localhost:8080/",
     "height": 49
    },
    "colab_type": "code",
    "deletable": false,
    "editable": false,
    "id": "_rlOuwdC71HN",
    "nbgrader": {
     "cell_type": "code",
     "checksum": "2866b7c33321828893200123b0473383",
     "grade": false,
     "grade_id": "cell-eaa441aac3ef5e8c",
     "locked": true,
     "schema_version": 3,
     "solution": false,
     "task": false
    },
    "outputId": "4b6045ea-ca46-40a7-e7c2-4fc6660ab78d"
   },
   "outputs": [
    {
     "name": "stdout",
     "output_type": "stream",
     "text": [
      "Training data (64, 100)\n",
      "Testing data (64, 100)\n"
     ]
    }
   ],
   "source": [
    "for x in train_dataset.take(1):\n",
    "    features, target = x\n",
    "    print(\"Training data\", features.shape)\n",
    "    print(\"Testing data\", target.shape)"
   ]
  },
  {
   "cell_type": "markdown",
   "metadata": {
    "colab_type": "text",
    "deletable": false,
    "editable": false,
    "id": "Wmtav2P49i4u",
    "nbgrader": {
     "cell_type": "markdown",
     "checksum": "21ee8f08c69cf9ed5bdeb667e69f9a34",
     "grade": false,
     "grade_id": "cell-5a58904e8909e275",
     "locked": true,
     "schema_version": 3,
     "solution": false,
     "task": false
    }
   },
   "source": [
    "# Build the model"
   ]
  },
  {
   "cell_type": "code",
   "execution_count": 442,
   "metadata": {
    "colab": {},
    "colab_type": "code",
    "deletable": false,
    "editable": false,
    "id": "e45nDgm874_A",
    "nbgrader": {
     "cell_type": "code",
     "checksum": "a5ad3cecf273522c09f181b0a1b12dc4",
     "grade": false,
     "grade_id": "cell-c491a813a540ad22",
     "locked": true,
     "schema_version": 3,
     "solution": false,
     "task": false
    }
   },
   "outputs": [],
   "source": [
    "from tensorflow.keras.models import Sequential\n",
    "from tensorflow.keras.layers import Dropout, Flatten, Dense, LSTM, RNN, GRU, TimeDistributed, Embedding\n",
    "from tensorflow.keras.regularizers import l2"
   ]
  },
  {
   "cell_type": "markdown",
   "metadata": {
    "colab_type": "text",
    "deletable": false,
    "editable": false,
    "id": "am4tH2mt-Dg5",
    "nbgrader": {
     "cell_type": "markdown",
     "checksum": "767d786ca276a35f90b7cc5fc1e91407",
     "grade": false,
     "grade_id": "cell-3d905b09dc2e6cf0",
     "locked": true,
     "schema_version": 3,
     "solution": false,
     "task": false
    }
   },
   "source": [
    "Given below is the architechture you've to make in the next cell using Sequential\n",
    "\n",
    "`Embedding(#256) -> GRU(#1024, return_sequences=True, stateful=True, recurrent_initializer='glorot_uniform')) -> Dense(#256, relu_activation, kernel_regularizer = l2(0.001)) -> Dense(n_vocabs)`\n",
    "\n",
    "You can also look for different arguments shown in above architure for better understanding. [Embedding](https://www.tensorflow.org/api_docs/python/tf/keras/layers/Embedding), [GRU](https://www.tensorflow.org/api_docs/python/tf/keras/layers/GRU), [Dense](https://www.tensorflow.org/api_docs/python/tf/keras/layers/Dense)\n",
    "\n",
    "Here, we use Gated-Recurrent-Unit to learn sentences. You can try LSTM or RNN after trying GRU. \n",
    "You can look into the official [documentation](https://www.tensorflow.org/api_docs/python/tf/keras/Sequential) to see the examples on how to use `Sequential`. This will give you an idea on how to build a model\n",
    "\n",
    "When defining the model, we prefer to set `sequence_legnth` to `None`. The `None` `sequence_length` means that the model accepts text input of any length. This is convenient in production that not all text input is the 100-character length. Also, the more characters the input has, the more accurate the prediction may be."
   ]
  },
  {
   "cell_type": "code",
   "execution_count": 443,
   "metadata": {
    "colab": {},
    "colab_type": "code",
    "deletable": false,
    "id": "4-r3qZ6u-Cq4",
    "nbgrader": {
     "cell_type": "code",
     "checksum": "4393af1c9d4e31b64488220bf810e3fb",
     "grade": false,
     "grade_id": "text_generator_model",
     "locked": false,
     "schema_version": 3,
     "solution": true,
     "task": false
    }
   },
   "outputs": [],
   "source": [
    "# GRADED ASSIGNMENT\n",
    "# Point = 5\n",
    "# Function to create model architecture as given in cell just above\n",
    "RNNcell_list = [1024]\n",
    "nodes_list = [256, len(vocabs)] # [Nodes for 1st Dense layer and the output layer]\n",
    "activation_list = ['relu']\n",
    "EMBEDDING_DIM = 256\n",
    "def text_generator_model(RNNcell_list, nodes_list, activation_list, vocab_size, embedding_dim, batch_size):\n",
    "    \"\"\"\n",
    "    Create a RNN-based model to generate text. The output of this model is a sequence of vocab classes\n",
    "\n",
    "    Hint: use Sequential, Embedding, GRU, Dense, and Dropout\n",
    "    \"\"\"\n",
    "    # YOUR CODE HERE\n",
    "    model = tf.keras.Sequential()\n",
    "    model.add(tf.keras.layers.Embedding(vocab_size, embedding_dim,batch_input_shape=[batch_size, None]))\n",
    "    model.add(tf.keras.layers.GRU(RNNcell_list[0],return_sequences=True,stateful=True,recurrent_initializer='glorot_uniform'))\n",
    "    model.add(tf.keras.layers.Dense(nodes_list[0],activation=activation_list[0],kernel_regularizer = l2(0.001)))\n",
    "    model.add(tf.keras.layers.Dense(nodes_list[1])   )       \n",
    "    return model\n",
    "    raise NotImplementedError()"
   ]
  },
  {
   "cell_type": "code",
   "execution_count": 444,
   "metadata": {
    "colab": {},
    "colab_type": "code",
    "deletable": false,
    "editable": false,
    "id": "EL8KMqWb-Kzv",
    "nbgrader": {
     "cell_type": "code",
     "checksum": "5bfbffbac89b6a9e61eb2e853d886831",
     "grade": false,
     "grade_id": "cell-01aa6f678b2ca2c9",
     "locked": true,
     "schema_version": 3,
     "solution": false,
     "task": false
    }
   },
   "outputs": [],
   "source": [
    "model = text_generator_model(RNNcell_list, nodes_list, activation_list, len(vocabs), EMBEDDING_DIM, BATCH_SIZE)"
   ]
  },
  {
   "cell_type": "code",
   "execution_count": 445,
   "metadata": {
    "colab": {
     "base_uri": "https://localhost:8080/",
     "height": 280
    },
    "colab_type": "code",
    "deletable": false,
    "editable": false,
    "id": "7r6230XNs6UD",
    "nbgrader": {
     "cell_type": "code",
     "checksum": "7c57713c9c0f38ec054f7a8000bfee52",
     "grade": false,
     "grade_id": "cell-33c36c8037edf624",
     "locked": true,
     "schema_version": 3,
     "solution": false,
     "task": false
    },
    "outputId": "a102c74f-f6f8-4a59-9175-650dfe7d620f"
   },
   "outputs": [
    {
     "name": "stdout",
     "output_type": "stream",
     "text": [
      "Model: \"sequential_10\"\n",
      "_________________________________________________________________\n",
      "Layer (type)                 Output Shape              Param #   \n",
      "=================================================================\n",
      "embedding_10 (Embedding)     (64, None, 256)           16384     \n",
      "_________________________________________________________________\n",
      "gru_10 (GRU)                 (64, None, 1024)          3938304   \n",
      "_________________________________________________________________\n",
      "dense_20 (Dense)             (64, None, 256)           262400    \n",
      "_________________________________________________________________\n",
      "dense_21 (Dense)             (64, None, 64)            16448     \n",
      "=================================================================\n",
      "Total params: 4,233,536\n",
      "Trainable params: 4,233,536\n",
      "Non-trainable params: 0\n",
      "_________________________________________________________________\n"
     ]
    }
   ],
   "source": [
    "model.summary()"
   ]
  },
  {
   "cell_type": "code",
   "execution_count": 446,
   "metadata": {
    "colab": {},
    "colab_type": "code",
    "deletable": false,
    "editable": false,
    "id": "zaTE-eWMK_K4",
    "nbgrader": {
     "cell_type": "code",
     "checksum": "c170d957a224ffe0a3710688052d5a6b",
     "grade": true,
     "grade_id": "text_generator_model_test",
     "locked": true,
     "points": 5,
     "schema_version": 3,
     "solution": false,
     "task": false
    }
   },
   "outputs": [],
   "source": [
    "#YOU MUST NOT DELETE/EDIT THIS CELL.\n",
    "#TEST CELL"
   ]
  },
  {
   "cell_type": "markdown",
   "metadata": {
    "colab_type": "text",
    "deletable": false,
    "editable": false,
    "id": "gV-E6ndOxq-x",
    "nbgrader": {
     "cell_type": "markdown",
     "checksum": "9415f12e73b380d6b3de9bff62dd7294",
     "grade": false,
     "grade_id": "cell-a47208bc12ecede6",
     "locked": true,
     "schema_version": 3,
     "solution": false,
     "task": false
    }
   },
   "source": [
    "## Configure Loss, Optimizer, Metrics"
   ]
  },
  {
   "cell_type": "markdown",
   "metadata": {
    "colab_type": "text",
    "deletable": false,
    "editable": false,
    "id": "2E0hz57xuubc",
    "nbgrader": {
     "cell_type": "markdown",
     "checksum": "82fb56709b3b69e6bbd8bdab222d2bfd",
     "grade": false,
     "grade_id": "cell-058ff7b081953275",
     "locked": true,
     "schema_version": 3,
     "solution": false,
     "task": false
    }
   },
   "source": [
    "After defining our model and stacking the layers, we have to configure our model. We do this configuration process in the compilation phase.\n",
    "\n",
    "Before training the model we need to compile it and define the loss function, optimizers, and metrics for prediction.\n",
    "\n",
    "Although we're not training the model here, but we need to compile our model in order to check the loss and accuracy of test set\n",
    "\n",
    "We compile the model using `.compile()` method."
   ]
  },
  {
   "cell_type": "code",
   "execution_count": 447,
   "metadata": {
    "colab": {},
    "colab_type": "code",
    "deletable": false,
    "id": "GtF58tietFQX",
    "nbgrader": {
     "cell_type": "code",
     "checksum": "f304e88eeea132e3f8c31ec66ffbcc44",
     "grade": true,
     "grade_id": "cell-cbd1fe87c2a68939",
     "locked": false,
     "points": 1,
     "schema_version": 3,
     "solution": true,
     "task": false
    }
   },
   "outputs": [],
   "source": [
    "#Manually GRADED ASSIGNMENT\n",
    "#Point = 1\n",
    "#Function to compile the model\n",
    "def compile_model(model, loss, optimizer, metrics):\n",
    "    \"\"\"This function compiles the model with loss, optimizer and metrics that is to be monitered\n",
    "    model: defined model\n",
    "    loss: loss function to be used. In this problem we will be using 'binary_crossentropy'\n",
    "    optimizer: optimizer used to update the model weights. In this problem we will be using 'SGD'\n",
    "    metrics: list of metrics that is to be monitered. in this we used ['accuracy']\n",
    "    \n",
    "    Returns: Do not return anything\n",
    "    \n",
    "    Hint: use compile method of model\"\"\"\n",
    "    \n",
    "    # YOUR CODE HERE\n",
    "    model.compile(optimizer=optimizer, loss=loss,metrics=metrics)\n",
    "    #raise NotImplementedError()"
   ]
  },
  {
   "cell_type": "code",
   "execution_count": 448,
   "metadata": {
    "colab": {},
    "colab_type": "code",
    "deletable": false,
    "editable": false,
    "id": "XffUH9OywH1U",
    "nbgrader": {
     "cell_type": "code",
     "checksum": "cbf402bd839a59532d9195adc038a9f6",
     "grade": false,
     "grade_id": "cell-28911b51d39d8c2e",
     "locked": true,
     "schema_version": 3,
     "solution": false,
     "task": false
    }
   },
   "outputs": [],
   "source": [
    "from tensorflow.keras.optimizers import Adam\n",
    "from tensorflow.keras.losses import SparseCategoricalCrossentropy\n",
    "LEARNING_RATE = 0.001\n",
    "compile_model(model, loss = SparseCategoricalCrossentropy(from_logits=True), optimizer = Adam(learning_rate = LEARNING_RATE), metrics = ['sparse_categorical_accuracy'])"
   ]
  },
  {
   "cell_type": "markdown",
   "metadata": {
    "colab_type": "text",
    "deletable": false,
    "editable": false,
    "id": "ZWiQqhdoxwHd",
    "nbgrader": {
     "cell_type": "markdown",
     "checksum": "b91be123ccab967d0795856006a848ae",
     "grade": false,
     "grade_id": "cell-ba73f0fb9388dcd5",
     "locked": true,
     "schema_version": 3,
     "solution": false,
     "task": false
    }
   },
   "source": [
    "## Configure Callbacks\n",
    "A problem with training neural networks is in the choice of the number of training epochs to use.\n",
    "\n",
    "Callbacks:\n",
    "* EarlyStopping\n",
    "  - Too many epochs can lead to overfitting of the training dataset, whereas too few may result in an underfit model. Early stopping is a method that allows you to specify an arbitrary large number of training epochs and stop training once the model performance stops improving on a hold out validation dataset.\n",
    "  - Stop training model early if the model converges\n",
    "* Learning Rate Scheduler: ReduceLROnPlateau\n",
    "  - When training the model for large epochs, the constant learning_rate may prevent the model from converging. Hence, we use ReduceOnPlateau to reduce the learning_rate to help the model converge\n",
    "  - Schedule to reduce learning rate if the model stops improving\n",
    "* Checkpoints\n",
    "  - In some cases, we want to save checkpoints (model weights) in order to restore the last training step.\n",
    "  - Save checkpoints during training"
   ]
  },
  {
   "cell_type": "code",
   "execution_count": 449,
   "metadata": {
    "deletable": false,
    "editable": false,
    "nbgrader": {
     "cell_type": "code",
     "checksum": "9facfbf185c5e399c77fbeb5b1dcbbb4",
     "grade": false,
     "grade_id": "cell-fe58f056d11290f9",
     "locked": true,
     "schema_version": 3,
     "solution": false,
     "task": false
    }
   },
   "outputs": [],
   "source": [
    "from tensorflow.keras.callbacks import EarlyStopping, ReduceLROnPlateau"
   ]
  },
  {
   "cell_type": "code",
   "execution_count": 450,
   "metadata": {
    "colab": {},
    "colab_type": "code",
    "deletable": false,
    "editable": false,
    "id": "Aa-7RygLxbtM",
    "nbgrader": {
     "cell_type": "code",
     "checksum": "5187a347a322b1400b39625bc97eed8f",
     "grade": false,
     "grade_id": "cell-19d1f8a5954b5a12",
     "locked": true,
     "schema_version": 3,
     "solution": false,
     "task": false
    }
   },
   "outputs": [],
   "source": [
    "def configure_callbacks(monitor='val_loss', patience=5):\n",
    "    early_stop = EarlyStopping(monitor=monitor, patience=patience)\n",
    "    lr_reducer = ReduceLROnPlateau(monitor=monitor, verbose=1, mode = 'min', patience = patience)\n",
    "    return [early_stop, lr_reducer]"
   ]
  },
  {
   "cell_type": "code",
   "execution_count": 451,
   "metadata": {
    "colab": {},
    "colab_type": "code",
    "deletable": false,
    "editable": false,
    "id": "fkfgVXpx2cMh",
    "nbgrader": {
     "cell_type": "code",
     "checksum": "04294c5160ae79ea16e675ad169de801",
     "grade": false,
     "grade_id": "cell-945f3ddf7bbdd7fe",
     "locked": true,
     "schema_version": 3,
     "solution": false,
     "task": false
    }
   },
   "outputs": [],
   "source": [
    "callbacks = configure_callbacks(monitor='val_loss', patience = 5)"
   ]
  },
  {
   "cell_type": "markdown",
   "metadata": {
    "colab_type": "text",
    "deletable": false,
    "editable": false,
    "id": "EHZ5Ibns2x4R",
    "nbgrader": {
     "cell_type": "markdown",
     "checksum": "ccac7cd6bb2cc8d62f9912b6c2d742a0",
     "grade": false,
     "grade_id": "cell-21efff731c61eb73",
     "locked": true,
     "schema_version": 3,
     "solution": false,
     "task": false
    }
   },
   "source": [
    "# Train model"
   ]
  },
  {
   "cell_type": "markdown",
   "metadata": {
    "colab": {
     "base_uri": "https://localhost:8080/",
     "height": 713
    },
    "colab_type": "code",
    "deletable": false,
    "editable": false,
    "id": "QoWTaRLL2v3T",
    "nbgrader": {
     "cell_type": "markdown",
     "checksum": "efd25755cfe52b1f55598492a3f25ea4",
     "grade": false,
     "grade_id": "cell-f3d2c0a224ef7810",
     "locked": true,
     "schema_version": 3,
     "solution": false,
     "task": false
    },
    "outputId": "10502b4d-4503-46ca-cfe8-ea8da57952ae"
   },
   "source": [
    "Use code given below to train a model from scratch\n",
    "\n",
    "`EPOCHS=20`\n",
    "\n",
    "`history = model.fit(train_dataset, epochs=EPOCHS, callbacks = callbacks, validation_data=test_dataset, verbose=1, batch_size = 128)`"
   ]
  },
  {
   "cell_type": "markdown",
   "metadata": {
    "colab_type": "text",
    "deletable": false,
    "editable": false,
    "id": "-bmmMtXoRiJ5",
    "nbgrader": {
     "cell_type": "markdown",
     "checksum": "abf99b4efd4c57d92770468b9bc85cc2",
     "grade": false,
     "grade_id": "cell-80476fd0abd6bb7c",
     "locked": true,
     "schema_version": 3,
     "solution": false,
     "task": false
    }
   },
   "source": [
    "**Luckily it's already done for you. You don't have to do this**"
   ]
  },
  {
   "cell_type": "markdown",
   "metadata": {
    "colab_type": "text",
    "deletable": false,
    "editable": false,
    "id": "bEHNz6Z1DKjC",
    "nbgrader": {
     "cell_type": "markdown",
     "checksum": "88650edee62cf1f6144a0947c312ca79",
     "grade": false,
     "grade_id": "cell-8f0eb6faa373d95d",
     "locked": true,
     "schema_version": 3,
     "solution": false,
     "task": false
    }
   },
   "source": [
    "- Code to save the model wieghts after training\n",
    "  - `model.save(model_weight_path)`\n",
    "- Code to save the history of model training\n",
    "  - `pd.DataFrame.from_dict(history.history).to_csv(history_path,index=False)`"
   ]
  },
  {
   "cell_type": "markdown",
   "metadata": {
    "colab_type": "text",
    "deletable": false,
    "editable": false,
    "id": "jv2CwUKFS013",
    "nbgrader": {
     "cell_type": "markdown",
     "checksum": "b1ccc4050960413c9f462649c40d2528",
     "grade": false,
     "grade_id": "cell-a7f14215c18947a0",
     "locked": true,
     "schema_version": 3,
     "solution": false,
     "task": false
    }
   },
   "source": [
    "# Evaluating the Model\n",
    "\n",
    "Evaluation is a process during development of the model to check whether the model is best fit for the given problem and corresponding data. TensorFlow Keras model provides a method, evaluate which does the evaluation of the model.\n",
    "\n",
    "In this section we mainly load the model weights (If Pre-trained Model), see the training history of the model to see how loss and accuracy are changing with respect to epoch, evaluate the trained model's performance on test data using `evaluate` method of model, prediction on the test data using `predict` method of model and finally visualizing the predictions"
   ]
  },
  {
   "cell_type": "code",
   "execution_count": 452,
   "metadata": {
    "colab": {},
    "colab_type": "code",
    "deletable": false,
    "id": "2O47J0o4RPdK",
    "nbgrader": {
     "cell_type": "code",
     "checksum": "dc90178476fc4cc984a2381d7547422b",
     "grade": false,
     "grade_id": "load_weight_history",
     "locked": false,
     "schema_version": 3,
     "solution": true,
     "task": false
    }
   },
   "outputs": [],
   "source": [
    "#GRADED ASSIGNMENT\n",
    "#Point = 1\n",
    "#Function to load weight and history\n",
    "def load_weight_history(model, model_path, history_path):\n",
    "    \"\"\"This function loads the weight to defined model and also the history of pre-trained model\n",
    "    model: defined model\n",
    "    model_path: path to .h5 file\n",
    "    history_path: path to .csv file\n",
    "    \n",
    "    Returns: pretrained mode and history dataframe\n",
    "    \n",
    "    Hint: use pd.read_csv to read the history.csv file\"\"\"\n",
    "    \n",
    "    # YOUR CODE HERE\n",
    "    model.load_weights(model_path)    \n",
    "    history_df=pd.read_csv(history_path)\n",
    "    return model,history_df\n",
    "    raise NotImplementedError()"
   ]
  },
  {
   "cell_type": "code",
   "execution_count": 453,
   "metadata": {
    "colab": {},
    "colab_type": "code",
    "deletable": false,
    "editable": false,
    "id": "AVABSkjzURVF",
    "nbgrader": {
     "cell_type": "code",
     "checksum": "4dae784d83317e73d3e5c42e75c5d1cc",
     "grade": false,
     "grade_id": "cell-15e7fe0abb093d78",
     "locked": true,
     "schema_version": 3,
     "solution": false,
     "task": false
    }
   },
   "outputs": [],
   "source": [
    "model, losses = load_weight_history(model, model_weight_path, history_path)"
   ]
  },
  {
   "cell_type": "code",
   "execution_count": 454,
   "metadata": {
    "colab": {},
    "colab_type": "code",
    "deletable": false,
    "editable": false,
    "id": "hfVXraKWj7Kd",
    "nbgrader": {
     "cell_type": "code",
     "checksum": "1aa5ca8b3759e37b35a683d106b7398f",
     "grade": true,
     "grade_id": "load_weight_history_test",
     "locked": true,
     "points": 1,
     "schema_version": 3,
     "solution": false,
     "task": false
    }
   },
   "outputs": [],
   "source": [
    "#YOU MUST NOT DELETE/EDIT THIS CELL.\n",
    "#TEST CELL"
   ]
  },
  {
   "cell_type": "code",
   "execution_count": 455,
   "metadata": {
    "colab": {
     "base_uri": "https://localhost:8080/",
     "height": 282
    },
    "colab_type": "code",
    "deletable": false,
    "editable": false,
    "id": "2PhmlVUVUVUa",
    "nbgrader": {
     "cell_type": "code",
     "checksum": "55627628d857509c48f08df7a6796570",
     "grade": false,
     "grade_id": "cell-ca1fa4c0e2396b1b",
     "locked": true,
     "schema_version": 3,
     "solution": false,
     "task": false
    },
    "outputId": "d3a94533-49f8-4ed1-9fb9-7fc42b4b8915"
   },
   "outputs": [
    {
     "data": {
      "text/plain": [
       "<matplotlib.axes._subplots.AxesSubplot at 0x7f33644e2be0>"
      ]
     },
     "execution_count": 455,
     "metadata": {},
     "output_type": "execute_result"
    },
    {
     "data": {
      "image/png": "[encoded data removed]",
      "text/plain": [
       "<Figure size 432x288 with 1 Axes>"
      ]
     },
     "metadata": {
      "needs_background": "light"
     },
     "output_type": "display_data"
    }
   ],
   "source": [
    "losses[['loss','val_loss']].plot()"
   ]
  },
  {
   "cell_type": "code",
   "execution_count": 456,
   "metadata": {
    "colab": {
     "base_uri": "https://localhost:8080/",
     "height": 282
    },
    "colab_type": "code",
    "deletable": false,
    "editable": false,
    "id": "KxFuBYerUW8I",
    "nbgrader": {
     "cell_type": "code",
     "checksum": "d0e978354a1a6bc95cfb63331e7a6a32",
     "grade": false,
     "grade_id": "cell-c377e604e6c665b0",
     "locked": true,
     "schema_version": 3,
     "solution": false,
     "task": false
    },
    "outputId": "4658eff2-b3d8-4e5b-bc9d-e83dd3736a35"
   },
   "outputs": [
    {
     "data": {
      "text/plain": [
       "<matplotlib.axes._subplots.AxesSubplot at 0x7f33644404f0>"
      ]
     },
     "execution_count": 456,
     "metadata": {},
     "output_type": "execute_result"
    },
    {
     "data": {
      "image/png": "[encoded data removed]",
      "text/plain": [
       "<Figure size 432x288 with 1 Axes>"
      ]
     },
     "metadata": {
      "needs_background": "light"
     },
     "output_type": "display_data"
    }
   ],
   "source": [
    "losses[['sparse_categorical_accuracy','val_sparse_categorical_accuracy']].plot()"
   ]
  },
  {
   "cell_type": "markdown",
   "metadata": {
    "colab_type": "text",
    "deletable": false,
    "editable": false,
    "id": "y5zn4tqS7-fn",
    "nbgrader": {
     "cell_type": "markdown",
     "checksum": "5f085219b45725b40283b6770f6bac02",
     "grade": false,
     "grade_id": "cell-dd5de3ffea98d4ff",
     "locked": true,
     "schema_version": 3,
     "solution": false,
     "task": false
    }
   },
   "source": [
    "# Making predictions"
   ]
  },
  {
   "cell_type": "markdown",
   "metadata": {
    "colab_type": "text",
    "deletable": false,
    "editable": false,
    "id": "68KYPQ2XQ2FD",
    "nbgrader": {
     "cell_type": "markdown",
     "checksum": "227f830929f35a24b9fc229ac8bf0ae4",
     "grade": false,
     "grade_id": "cell-7d0291f23354c356",
     "locked": true,
     "schema_version": 3,
     "solution": false,
     "task": false
    }
   },
   "source": [
    "In the next cell, you implement a function to evaluate the model. Simply, you take the model as input and use model.prediction function to make predictions. "
   ]
  },
  {
   "cell_type": "code",
   "execution_count": 457,
   "metadata": {
    "colab": {},
    "colab_type": "code",
    "deletable": false,
    "id": "cWwmv8NzwDyd",
    "nbgrader": {
     "cell_type": "code",
     "checksum": "f719eb82e9c229e0f310ba801d5038fd",
     "grade": false,
     "grade_id": "test",
     "locked": false,
     "schema_version": 3,
     "solution": true,
     "task": false
    }
   },
   "outputs": [],
   "source": [
    "#GRADED ASSIGNMENT\n",
    "#Point = 4\n",
    "#function to test the model and predict from the model given initial charachter\n",
    "def test(model, text, char2idx, pred_char = 500):\n",
    "    \"\"\"\n",
    "    test - function to take model and text as input and generate new text\n",
    "    Inputs: model - text_generator_model\n",
    "            text - input text string, starting first few character or words\n",
    "            char2idx - output of generate_mappings function\n",
    "            pred_char - integer, number of charachters want to be predicted, default is 500\n",
    "    Returns: sequence of test generated\n",
    "    Hints:   1 - convert input string into a list of characters and saved to \"text_generated\" variable for output. text_generated is the output of \"test\" function\n",
    "             2 - read given text, convert text into numerical vectors, and expand dimension by using tf.expand_dims into shaep of [1, sequence_length, number_vocabs]\n",
    "             3 - for-loop 'pred_char' times to predict the next 'pred_char' characters\n",
    "             4 - use model.predict to predict the next characters.\n",
    "             5 - Remove batch dimension using tf.squeeze. From [1, sequence_legnth, number_vocabs] -> [sequence_length, number_vocabs]\n",
    "             6 - use tf.random.categorical to get the class of the next character (next character is the last character of the predicted sentence)\n",
    "             7 - take the last character as input to the model. repeat step 1 that you need to expand dimenssion to [1, 1, number_vocabs]\n",
    "             8 - add the predicted last character to text_generated\n",
    "    \"\"\"\n",
    "    # YOUR CODE HERE\n",
    "    # Converting our start string to numbers (vectorizing)\n",
    "    input_eval = [char2idx[t] for t in text]\n",
    "    input_eval = tf.expand_dims(input_eval, 0)\n",
    "    # Empty string to store our results\n",
    "    text_generated = []\n",
    "    temperature = 1.0\n",
    "\n",
    "    # Here batch size == 1\n",
    "    #model.reset_states()\n",
    "    for i in range(pred_char):\n",
    "        predictions = model(input_eval)\n",
    "        # remove the batch dimension\n",
    "        predictions = tf.squeeze(predictions, 0)\n",
    "\n",
    "        # using a categorical distribution to predict the character returned by the model\n",
    "        predictions = predictions / temperature\n",
    "        predicted_id = tf.random.categorical(predictions, num_samples=1)[-1,0].numpy()\n",
    "\n",
    "        # Pass the predicted character as the next input to the model\n",
    "        # along with the previous hidden state\n",
    "        input_eval = tf.expand_dims([predicted_id], 0)\n",
    "\n",
    "        text_generated.append(idx2char[predicted_id])\n",
    "\n",
    "    return (text + ''.join(text_generated))\n",
    "    raise NotImplementedError()"
   ]
  },
  {
   "cell_type": "markdown",
   "metadata": {
    "deletable": false,
    "editable": false,
    "nbgrader": {
     "cell_type": "markdown",
     "checksum": "2aeaac99f8d2a8692ff88dd25745f4b5",
     "grade": false,
     "grade_id": "cell-7dd57e213888224b",
     "locked": true,
     "schema_version": 3,
     "solution": false,
     "task": false
    }
   },
   "source": [
    "* So far, you have done good job in creating \"test\" function. However, the common mistake in \"test\" function is to forget reshaping text input to the shape [1, sequence_length] that 1 is one sample. Shape of \"text\" input is always [1, sequence_length]. To avoid this, I provide sample code \n",
    "\n",
    "```\n",
    "text = 'I am President Trum' # given input\n",
    "text =  tf.expand_dims[char2dix[c]f ro c in text], 0) # convert charactaer to integer and reshape to [1, sequence_length]\n",
    "\n",
    "for i in range(5): # predict next 5 characters\n",
    "  \"\"\"\n",
    "  * make predictions\n",
    "  * add last_character of predicted sequence (the predicted character) to \"text\" input\n",
    "  \"\"\"\n",
    "  \n",
    "  last_character = predictions \n",
    "  text = tf.concate([text, last_character], axis = -1)\n",
    "  text = text[:, 1:] # text input is 1 unit shifted-to-right of the concatenated input (as \"text\" is concatenated with last_character\n",
    "```"
   ]
  },
  {
   "cell_type": "markdown",
   "metadata": {
    "deletable": false,
    "editable": false,
    "nbgrader": {
     "cell_type": "markdown",
     "checksum": "8534d420557e7f7e8fd1f192c0f6dc01",
     "grade": false,
     "grade_id": "cell-08d6ae4e31de8da5",
     "locked": true,
     "schema_version": 3,
     "solution": false,
     "task": false
    }
   },
   "source": [
    "* So far, you have done good job in creating \"test\" function. However, the common mistake in \"test\" function is to forget reshaping text input to the shape [1, sequence_length] that 1 is one sample. Shape of \"text\" input is always [1, sequence_length]. To avoid this, I provide sample code \n",
    "\n",
    "`text = 'I am President Trum' # given input\n",
    "text =  tf.expand_dims[char2dix[c]f ro c in text], 0) # convert charactaer to integer and reshape to [1, sequence_length]\n",
    "for i in range(5): # predict next 5 characters\n",
    "  \"\"\"\n",
    "     make predictions\n",
    "     add last_character of predicted sequence (the predicted character) to \"text\" input\n",
    "  \"\"\"\n",
    "  last_character = predictions \n",
    "  text = tf.concate([text, last_character], axis = -1)\n",
    "  text = text[:, 1:]`"
   ]
  },
  {
   "cell_type": "code",
   "execution_count": 458,
   "metadata": {
    "deletable": false,
    "editable": false,
    "nbgrader": {
     "cell_type": "code",
     "checksum": "0ccdf673aac1c2224eef2445f0e2e437",
     "grade": false,
     "grade_id": "cell-c8669eea6f5b5757",
     "locked": true,
     "schema_version": 3,
     "solution": false,
     "task": false
    }
   },
   "outputs": [
    {
     "name": "stdout",
     "output_type": "stream",
     "text": [
      "Predicted text: \n",
      "ROMEO: When will I come and reaving, iny, I'll sleer speak,\n",
      "And theteset re but a briget.\n",
      "LYIAL JULIET\n",
      "Ty the frould the lidure: pair Pentul se, welcome, de.\n",
      "What, lod there is well it rade ghinges bice:\n",
      "The prien's deason, hovas, but my weed it, but Pelt!\n",
      "Eidth you know's great poot kones;\n",
      "Ksbloush her I have vilm me till tire.\n",
      "Enter JULIET\n",
      "A icong, I he pecicion his jay, if thou wo thit wat, no takes: well o' oje quiterly:\n",
      "Marry, lest for you, slean sweed; you know is hend, it verce to the- crost spo\n"
     ]
    }
   ],
   "source": [
    "np.random.seed(2020)\n",
    "tf.random.set_seed(2020)\n",
    "\n",
    "temp_model = text_generator_model(RNNcell_list, nodes_list, activation_list, len(vocabs), EMBEDDING_DIM, 1)\n",
    "temp_model.compile(loss=SparseCategoricalCrossentropy(from_logits=True), optimizer=Adam(learning_rate = LEARNING_RATE), metrics=['sparse_categorical_accuracy'])\n",
    "temp_model, temp_losses = load_weight_history(temp_model, model_weight_path, history_path)\n",
    "pred = test(temp_model, \"ROMEO: \", char2idx)\n",
    "\n",
    "print(\"Predicted text: \\n{}\".format(''.join(pred)))"
   ]
  },
  {
   "cell_type": "code",
   "execution_count": 459,
   "metadata": {
    "colab": {
     "base_uri": "https://localhost:8080/",
     "height": 379
    },
    "colab_type": "code",
    "deletable": false,
    "editable": false,
    "id": "Ylo7rCSh7ZnY",
    "nbgrader": {
     "cell_type": "code",
     "checksum": "d7447efbfe3c7af67f1829649ee284e0",
     "grade": true,
     "grade_id": "test_test",
     "locked": true,
     "points": 4,
     "schema_version": 3,
     "solution": false,
     "task": false
    },
    "outputId": "c0a246d3-c7e0-4108-aef1-835390330a8b"
   },
   "outputs": [],
   "source": [
    "#YOU MUST NOT DELETE/EDIT THIS CELL.\n",
    "#TEST CELL"
   ]
  },
  {
   "cell_type": "markdown",
   "metadata": {
    "colab_type": "text",
    "deletable": false,
    "editable": false,
    "id": "3UQvCHrkNITf",
    "nbgrader": {
     "cell_type": "markdown",
     "checksum": "d70ab4cb414e29685a43926ccd7f17a4",
     "grade": false,
     "grade_id": "cell-34b006c12d3216d0",
     "locked": true,
     "schema_version": 3,
     "solution": false,
     "task": false
    }
   },
   "source": [
    "Some words look reasonable and meaningful. Still, the text generation does not look well because of the small dataset (138283 characters only). To solve this, simply find a bigger dataset and train the model for more epochs."
   ]
  },
  {
   "cell_type": "markdown",
   "metadata": {
    "deletable": false,
    "editable": false,
    "nbgrader": {
     "cell_type": "markdown",
     "checksum": "a80a8a388695f6444ed883fa1ba102e8",
     "grade": false,
     "grade_id": "cell-a16473bb8df49646",
     "locked": true,
     "schema_version": 3,
     "solution": false,
     "task": false
    }
   },
   "source": [
    "# Congratulations !\n",
    "\n",
    "Congratulation on completing this assignment. You now understand how language model work. You have implemented all the building blocks of a language model. Please submit this assignment. After submission you're encourange to play around with different arguments and see the changes it bring. You can also train your model from scratch.\n",
    "\n",
    "# Happy Machine Learning :)"
   ]
  },
  {
   "cell_type": "code",
   "execution_count": null,
   "metadata": {},
   "outputs": [],
   "source": []
  },
  {
   "cell_type": "code",
   "execution_count": null,
   "metadata": {},
   "outputs": [],
   "source": []
  }
 ],
 "metadata": {
  "accelerator": "GPU",
  "colab": {
   "collapsed_sections": [],
   "name": "LiveAI_Week3_Day6_Text_Generation_Graded_Assignment.ipynb",
   "provenance": [],
   "toc_visible": true
  },
  "kernelspec": {
   "display_name": "Python 3",
   "language": "python",
   "name": "python3"
  },
  "language_info": {
   "codemirror_mode": {
    "name": "ipython",
    "version": 3
   },
   "file_extension": ".py",
   "mimetype": "text/x-python",
   "name": "python",
   "nbconvert_exporter": "python",
   "pygments_lexer": "ipython3",
   "version": "3.8.3"
  }
 },
 "nbformat": 4,
 "nbformat_minor": 1
}
